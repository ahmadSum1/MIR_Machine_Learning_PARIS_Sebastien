{
  "cells": [
    {
      "cell_type": "markdown",
      "metadata": {
        "colab_type": "text",
        "id": "view-in-github"
      },
      "source": [
        "<a href=\"https://colab.research.google.com/github/ahmadSum1/MIR_Machine_Learning_PARIS_Sebastien/blob/dev_class1/MIRs1_ML_Exercice1_Kmeans.ipynb\" target=\"_parent\"><img src=\"https://colab.research.google.com/assets/colab-badge.svg\" alt=\"Open In Colab\"/></a>"
      ]
    },
    {
      "cell_type": "code",
      "execution_count": null,
      "metadata": {
        "id": "0Cu8H2b9ITcg"
      },
      "outputs": [],
      "source": [
        "from sklearn.datasets import make_blobs\n",
        "import numpy as np\n",
        "import matplotlib.pyplot as plt\n",
        "\n",
        "from scipy.spatial import Voronoi, voronoi_plot_2d"
      ]
    },
    {
      "cell_type": "code",
      "execution_count": null,
      "metadata": {
        "colab": {
          "base_uri": "https://localhost:8080/",
          "height": 530
        },
        "id": "Sz47dEoeIoqW",
        "outputId": "2848f3c3-0524-454b-a5e4-4b2e2b1ebb42"
      },
      "outputs": [],
      "source": [
        "X, y= make_blobs(n_samples=300, centers=4, n_features=2, random_state=0)\n",
        "# plt.scatter(X[:,0], X[:,1], c=y, cmap='gist_rainbow')\n",
        "plt.figure(1)\n",
        "plt.scatter(X[:,0], X[:,1])\n",
        "plt.figure(2)\n",
        "plt.scatter(X[:,0], X[:,1], c=y)"
      ]
    },
    {
      "cell_type": "markdown",
      "metadata": {
        "id": "XlG9J4r5FEjZ"
      },
      "source": [
        "**Task 1**  [Minkowski Distance](https://arifromadhan19.medium.com/understanding-clustering-in-unsupervised-learning-b0d7a5f61f03)"
      ]
    },
    {
      "cell_type": "code",
      "execution_count": null,
      "metadata": {
        "id": "CWMAMPH-I8W_"
      },
      "outputs": [],
      "source": [
        "def  calc_Lq(x1 , x2 , q):\n",
        "  return (np.sum((np.abs(x1-x2))**q))**(1/q)"
      ]
    },
    {
      "cell_type": "markdown",
      "metadata": {
        "id": "JkQGmHYAgkc6"
      },
      "source": [
        "VARIFY Task 1"
      ]
    },
    {
      "cell_type": "code",
      "execution_count": null,
      "metadata": {
        "colab": {
          "base_uri": "https://localhost:8080/"
        },
        "id": "HFVWloUmvR5f",
        "outputId": "65df64e0-c7e1-4709-f791-f118c25c0835"
      },
      "outputs": [],
      "source": [
        "X1 = np.array(X[0,:])\n",
        "X2 = np.array(X[1,:])\n",
        "\n",
        "calc_Lq(X1,X2,2)"
      ]
    },
    {
      "cell_type": "markdown",
      "metadata": {
        "id": "jtXWCNMDFiQJ"
      },
      "source": [
        "\n",
        "\n",
        "\n",
        "**Task 2: Assign the each point to the nearest cluster**  "
      ]
    },
    {
      "cell_type": "code",
      "execution_count": null,
      "metadata": {
        "id": "Y8t4mzaevfL0"
      },
      "outputs": [],
      "source": [
        "def update_assignation(X,U,q):\n",
        "  A = []\n",
        "  for i in range(X.shape[0]):\n",
        "    k = U.shape[0]\n",
        "    dist = np.zeros(k)\n",
        "    # print(dist)\n",
        "    for j in range(k):\n",
        "      # print (i,j,X[i,:],U[j,:])\n",
        "      dist[j] = calc_Lq(X[i,:],U[j,:],q)\n",
        "    c = np.argmin(dist)\n",
        "    # print(c, dist)\n",
        "    A.append(c)\n",
        "  return np.asarray(A)"
      ]
    },
    {
      "cell_type": "markdown",
      "metadata": {
        "id": "vnbqR7SRh-EX"
      },
      "source": [
        "VARIFY Task 2"
      ]
    },
    {
      "cell_type": "code",
      "execution_count": null,
      "metadata": {
        "colab": {
          "base_uri": "https://localhost:8080/",
          "height": 282
        },
        "id": "z1KHjmvdiB3z",
        "outputId": "0b387340-1ffa-4ab1-bf47-cf0005e50761"
      },
      "outputs": [],
      "source": [
        "U = np.array([[-4.0, 0.0],\n",
        "              [-3.0, 10.0],\n",
        "              [0.0, 0.0],\n",
        "              [4.0, 10.0]])\n",
        "a1 = update_assignation(X,U,1)\n",
        "# plt.scatter(X[:,0], X[:,1], c=a1)\n",
        "plt.figure(1)\n",
        "plt.scatter(U[:,0], U[:,1], color=\"red\")\n",
        "# plt.figure(2)\n",
        "plt.scatter(X[:,0], X[:,1], c=a1)"
      ]
    },
    {
      "cell_type": "markdown",
      "metadata": {
        "id": "SGtPhxmpFk27"
      },
      "source": [
        "**Task 3 update centroid**"
      ]
    },
    {
      "cell_type": "code",
      "execution_count": null,
      "metadata": {
        "id": "v5Kq69zV7-Rd"
      },
      "outputs": [],
      "source": [
        "def update_centroid(X,a,K):\n",
        "  d= X.shape[1]\n",
        "  U = np.zeros((K,d))\n",
        "  counts = np.zeros(K)\n",
        "  for i in range(X.shape[0]):\n",
        "    for j in range(K):\n",
        "      if j==a[i]:\n",
        "        U[j,:]+=X[i,:]\n",
        "        counts[j] +=1\n",
        "  counts = counts.reshape(K,1)\n",
        "  return U/counts"
      ]
    },
    {
      "cell_type": "markdown",
      "metadata": {
        "id": "fvPrMBcTRJFJ"
      },
      "source": [
        "**varify task 3**"
      ]
    },
    {
      "cell_type": "code",
      "execution_count": null,
      "metadata": {
        "colab": {
          "base_uri": "https://localhost:8080/",
          "height": 350
        },
        "id": "ju9ZZvKTRRgI",
        "outputId": "cd39c42c-bd81-41fb-d0c0-ba641665b25c"
      },
      "outputs": [],
      "source": [
        "U1 = update_centroid(X, a1, 4)\n",
        "print (U1)\n",
        "plt.figure(1)\n",
        "# plt.figure(2)\n",
        "plt.scatter(X[:,0], X[:,1], c=a1)\n",
        "\n",
        "plt.scatter(U1[:,0], U1[:,1], color=\"red\")"
      ]
    },
    {
      "cell_type": "markdown",
      "metadata": {
        "id": "9Jh141omOypE"
      },
      "source": [
        "**Task 4 compute loss**\n",
        "(Inertia)\n",
        "\n",
        "calculates the sum of distances of all the points within a cluster from the centroid of that cluster."
      ]
    },
    {
      "cell_type": "code",
      "execution_count": null,
      "metadata": {
        "id": "VoyMYTQGOq8r"
      },
      "outputs": [],
      "source": [
        "def  compute_Kmeans_loss(X,U,a,q):\n",
        "    loss = 0\n",
        "    for k in range(U.shape[0]):\n",
        "        for i in range(X.shape[0]):\n",
        "            if k==a[i]:\n",
        "                loss += calc_Lq(X[i], U[k], q)\n",
        "    return loss"
      ]
    },
    {
      "cell_type": "markdown",
      "metadata": {},
      "source": [
        "**varify Task 4**"
      ]
    },
    {
      "cell_type": "code",
      "execution_count": null,
      "metadata": {},
      "outputs": [],
      "source": [
        "compute_Kmeans_loss(X, U1, a1, 2)"
      ]
    },
    {
      "cell_type": "markdown",
      "metadata": {},
      "source": [
        "**Task 5**\n",
        "\n",
        "Write the main function *myKmeans(X,K,q,T)* where K is the number of centroids, q the Lq norm parameter and T the number of iteration. You will have to sample the initial value of your centroid (U matrix).\n",
        "\n",
        "Please sample K indexes from the set 0,...,n-1 without replacement. Plot the loss function versus iteration. How is the convergence ?. Check the impact of q."
      ]
    },
    {
      "cell_type": "code",
      "execution_count": null,
      "metadata": {},
      "outputs": [],
      "source": [
        "def myKmeans(X,K,q,T):\n",
        "    U = X[:K,:]\n",
        "    a=[]\n",
        "    loss = np.zeros(T)\n",
        "    for t in range(T):\n",
        "        a = update_assignation(X, U, q)\n",
        "        U = update_centroid(X, a, K)\n",
        "        loss[t] += (compute_Kmeans_loss(X, U, a, q))\n",
        "    return U, a, loss\n",
        "    "
      ]
    },
    {
      "cell_type": "markdown",
      "metadata": {},
      "source": [
        "*test Task 5*"
      ]
    },
    {
      "cell_type": "code",
      "execution_count": null,
      "metadata": {},
      "outputs": [],
      "source": [
        "U1, a1, l1 = myKmeans(X,4,1,20)\n",
        "plt.figure()  \n",
        "plt.title(\"Loss vs Iteration\"+\" q=1\") \n",
        "plt.xlabel(\"Iteration\") \n",
        "plt.ylabel(\"Kmeans Loss\") \n",
        "plt.plot( l1)\n",
        "plt.show()\n",
        "\n",
        "U2, a2, l2 = myKmeans(X,4,2,20)\n",
        "plt.figure()  \n",
        "plt.title(\"Loss vs Iteration\"+\" q=2\") \n",
        "plt.xlabel(\"Iteration\") \n",
        "plt.ylabel(\"Kmeans Loss\") \n",
        "plt.plot( l2)\n",
        "plt.show()\n"
      ]
    },
    {
      "cell_type": "markdown",
      "metadata": {},
      "source": [
        "**task 6**\n",
        "\n",
        " Run your myKmeans(X,K,q,T) on X with K=4, T=20 and q=2. For each iteration, plot the data, the updated centroid and the voronoi diagram."
      ]
    },
    {
      "cell_type": "code",
      "execution_count": 85,
      "metadata": {},
      "outputs": [],
      "source": [
        "def myKmeans1(X,K,q,T):\n",
        "    U = X[:K,:]\n",
        "    plt.figure(0)\n",
        "    plt.title(\"Before clustering\")\n",
        "    plt.scatter(X[:,0], X[:,1])\n",
        "    plt.scatter(U[:,0], U[:,1], color=\"red\")\n",
        "    plt.gca().set_aspect('equal', adjustable='box')\n",
        "    plt.xlim([-5, 5])\n",
        "    plt.ylim([0, 10])\n",
        "    plt.show()\n",
        "    a=[]\n",
        "    loss = np.zeros(T)\n",
        "    for t in range(T):\n",
        "        a = update_assignation(X, U, q)\n",
        "        U = update_centroid(X, a, K)\n",
        "        loss[t] += (compute_Kmeans_loss(X, U, a, q))\n",
        "        #print\n",
        "        vor = Voronoi(U)\n",
        "        fig, ax = plt.subplots()\n",
        "        plt.figure(t+1)\n",
        "        plt.title(\"Iteration: \"+str(t+1)+\", loss: \"+str(loss[t])) \n",
        "        plt.scatter(X[:,0], X[:,1], c=a)\n",
        "        plt.scatter(U[:,0], U[:,1], color=\"red\")\n",
        "        plt.gca().set_aspect('equal', adjustable='box')\n",
        "        voronoi_plot_2d(vor, show_vertices =False, show_points =False, ax=ax)\n",
        "        plt.xlim([-5, 5])\n",
        "        plt.ylim([0, 10])\n",
        "        \n",
        "    plt.show()\n",
        "    # return U, a, loss\n",
        "    "
      ]
    },
    {
      "cell_type": "code",
      "execution_count": null,
      "metadata": {},
      "outputs": [],
      "source": [
        "myKmeans1(X,4,2,20)"
      ]
    },
    {
      "cell_type": "markdown",
      "metadata": {},
      "source": []
    },
    {
      "cell_type": "markdown",
      "metadata": {},
      "source": [
        "**Task 7**\n",
        "\n",
        "With a maximum Kmax = 30, find the estimated K minimizing the BIC criteria. Plot versus k=2;...,Kmax, the BIC criteria\n"
      ]
    },
    {
      "cell_type": "code",
      "execution_count": 94,
      "metadata": {},
      "outputs": [],
      "source": [
        "def  compute_SSE(X,U,a):\n",
        "    sse = 0\n",
        "    for k in range(U.shape[0]):\n",
        "        for i in range(X.shape[0]):\n",
        "            if k==a[i]:\n",
        "                sse += (calc_Lq(X[i], U[k], 2))**2\n",
        "    return sse"
      ]
    },
    {
      "cell_type": "code",
      "execution_count": 97,
      "metadata": {},
      "outputs": [],
      "source": [
        "def compute_BIC(SSE,d,n,k):\n",
        "    BIC=np.argmin(n*np.log(np.sqrt(SSE)/n)+k*(d+1)*np.log(n))\n",
        "    return BIC"
      ]
    },
    {
      "cell_type": "code",
      "execution_count": 98,
      "metadata": {},
      "outputs": [
        {
          "data": {
            "text/plain": [
              "0"
            ]
          },
          "execution_count": 98,
          "metadata": {},
          "output_type": "execute_result"
        }
      ],
      "source": [
        "compute_BIC(compute_SSE(X,U,y),2,200,4)"
      ]
    },
    {
      "cell_type": "code",
      "execution_count": null,
      "metadata": {},
      "outputs": [],
      "source": []
    },
    {
      "cell_type": "markdown",
      "metadata": {},
      "source": []
    }
  ],
  "metadata": {
    "colab": {
      "collapsed_sections": [],
      "include_colab_link": true,
      "name": "MIRs1-ML-Exercice1 - Kmeans.ipynb",
      "provenance": []
    },
    "kernelspec": {
      "display_name": "Python 3",
      "name": "python3"
    },
    "language_info": {
      "codemirror_mode": {
        "name": "ipython",
        "version": 3
      },
      "file_extension": ".py",
      "mimetype": "text/x-python",
      "name": "python",
      "nbconvert_exporter": "python",
      "pygments_lexer": "ipython3",
      "version": "3.8.12"
    }
  },
  "nbformat": 4,
  "nbformat_minor": 0
}
