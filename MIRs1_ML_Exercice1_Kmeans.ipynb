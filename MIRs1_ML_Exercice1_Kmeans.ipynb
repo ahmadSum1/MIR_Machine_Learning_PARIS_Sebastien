{
  "nbformat": 4,
  "nbformat_minor": 0,
  "metadata": {
    "colab": {
      "name": "MIRs1-ML-Exercice1 - Kmeans.ipynb",
      "provenance": [],
      "collapsed_sections": [],
      "authorship_tag": "ABX9TyOLQL5NpWlUA2jBuI5T47ub",
      "include_colab_link": true
    },
    "kernelspec": {
      "name": "python3",
      "display_name": "Python 3"
    },
    "language_info": {
      "name": "python"
    }
  },
  "cells": [
    {
      "cell_type": "markdown",
      "metadata": {
        "id": "view-in-github",
        "colab_type": "text"
      },
      "source": [
        "<a href=\"https://colab.research.google.com/github/ahmadSum1/MIR_Machine_Learning_PARIS_Sebastien/blob/master/MIRs1_ML_Exercice1_Kmeans.ipynb\" target=\"_parent\"><img src=\"https://colab.research.google.com/assets/colab-badge.svg\" alt=\"Open In Colab\"/></a>"
      ]
    },
    {
      "cell_type": "code",
      "metadata": {
        "id": "0Cu8H2b9ITcg"
      },
      "source": [
        "from sklearn.datasets import make_blobs\n",
        "import numpy as np"
      ],
      "execution_count": null,
      "outputs": []
    },
    {
      "cell_type": "code",
      "metadata": {
        "id": "Sz47dEoeIoqW"
      },
      "source": [
        "X, y = make_blobs(n_samples=300, centers=4, n_features=2, random_state=0)"
      ],
      "execution_count": null,
      "outputs": []
    },
    {
      "cell_type": "markdown",
      "metadata": {
        "id": "XlG9J4r5FEjZ"
      },
      "source": [
        "1"
      ]
    },
    {
      "cell_type": "code",
      "metadata": {
        "id": "CWMAMPH-I8W_"
      },
      "source": [
        "def  calc_Lq(x1 , x2 , q):\n",
        "  return (np.sum(np.abs(x1-x2)**q))**(1/q)"
      ],
      "execution_count": null,
      "outputs": []
    },
    {
      "cell_type": "code",
      "metadata": {
        "id": "-8N0TePYvERv"
      },
      "source": [
        "X1 = np.array(X[0,:])\n",
        "X2 = np.array(X[1,:])\n"
      ],
      "execution_count": null,
      "outputs": []
    },
    {
      "cell_type": "code",
      "metadata": {
        "colab": {
          "base_uri": "https://localhost:8080/"
        },
        "id": "HFVWloUmvR5f",
        "outputId": "2c181519-5108-44f2-b2c7-e6ea0aa6deaf"
      },
      "source": [
        "calc_Lq(X1,X2,2)"
      ],
      "execution_count": null,
      "outputs": [
        {
          "output_type": "execute_result",
          "data": {
            "text/plain": [
              "4.442211434485271"
            ]
          },
          "metadata": {},
          "execution_count": 5
        }
      ]
    },
    {
      "cell_type": "markdown",
      "metadata": {
        "id": "jtXWCNMDFiQJ"
      },
      "source": [
        "**2**"
      ]
    },
    {
      "cell_type": "code",
      "metadata": {
        "id": "Y8t4mzaevfL0"
      },
      "source": [
        "def update_assignation(X,U,q):\n",
        "  A = []\n",
        "  for i in range(X.shape[0]):\n",
        "    dist = np.zeros(len(U.shape[1]))\n",
        "    for j in range(U.shape[0]):\n",
        "      dist[j] = calc_Lq(X[i,:],U[j,:],q)\n",
        "    A.append(np.argmin(dist))\n",
        "  return A"
      ],
      "execution_count": null,
      "outputs": []
    },
    {
      "cell_type": "markdown",
      "metadata": {
        "id": "SGtPhxmpFk27"
      },
      "source": [
        "**3**"
      ]
    },
    {
      "cell_type": "code",
      "metadata": {
        "id": "v5Kq69zV7-Rd"
      },
      "source": [
        "def update_centroid(X,a,K):\n",
        "  d= X.shape[1]\n",
        "  U = np.zeros(K,d)\n",
        "  counts = np.zeros(k)\n",
        "  for i in range(X.shape[0]):\n",
        "    for j in range(K):\n",
        "      if a[i]==K[j]:\n",
        "        U[j,:]+=X[i,:]\n",
        "        counts[j] +=1\n",
        "  return U/counts"
      ],
      "execution_count": null,
      "outputs": []
    },
    {
      "cell_type": "markdown",
      "metadata": {
        "id": "9Jh141omOypE"
      },
      "source": [
        "**4**\n",
        "\n"
      ]
    },
    {
      "cell_type": "code",
      "metadata": {
        "id": "VoyMYTQGOq8r"
      },
      "source": [
        "def  compute_Kmeans_loss(X,U,a,q):\n",
        "  "
      ],
      "execution_count": null,
      "outputs": []
    }
  ]
}