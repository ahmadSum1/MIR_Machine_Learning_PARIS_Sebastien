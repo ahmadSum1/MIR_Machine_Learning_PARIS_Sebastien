{
  "nbformat": 4,
  "nbformat_minor": 0,
  "metadata": {
    "colab": {
      "name": "MIRs1_ML_Exercice2_KCV_and_KNN_SVM.ipynb",
      "provenance": [],
      "collapsed_sections": [],
      "include_colab_link": true
    },
    "kernelspec": {
      "display_name": "Python 3",
      "name": "python3"
    },
    "language_info": {
      "codemirror_mode": {
        "name": "ipython",
        "version": 3
      },
      "file_extension": ".py",
      "mimetype": "text/x-python",
      "name": "python",
      "nbconvert_exporter": "python",
      "pygments_lexer": "ipython3",
      "version": "3.8.12"
    }
  },
  "cells": [
    {
      "cell_type": "markdown",
      "metadata": {
        "id": "view-in-github",
        "colab_type": "text"
      },
      "source": [
        "<a href=\"https://colab.research.google.com/github/ahmadSum1/MIR_Machine_Learning_PARIS_Sebastien/blob/dev_ex02/MIRs1_ML_Exercice2_KCV_and_KNN_SVM.ipynb\" target=\"_parent\"><img src=\"https://colab.research.google.com/assets/colab-badge.svg\" alt=\"Open In Colab\"/></a>"
      ]
    },
    {
      "cell_type": "code",
      "metadata": {
        "id": "pYfzXYAzAFF7"
      },
      "source": [
        "import pandas as pd\n",
        "from sklearn.neighbors import KNeighborsClassifier\n",
        "from sklearn import metrics\n",
        "from sklearn.metrics import mean_absolute_error\n",
        "\n",
        "from sklearn.svm import SVC\n",
        "\n",
        "import numpy as np\n",
        "import matplotlib.pyplot as plt\n",
        "\n",
        "if 'google.colab' in str(get_ipython()):\n",
        "  from google.colab import files\n",
        "  import io\n",
        "else:\n",
        "  print('Not running on CoLab')\n",
        "\n",
        "data_file = 'ionosphere_data.csv'\n",
        "df = pd.read_csv('ionosphere_data.csv')\n",
        "# uploaded = files.upload() #Si google colab\n",
        "# df = pd.read_csv(io.BytesIO(uploaded[data_file]))"
      ],
      "execution_count": 128,
      "outputs": []
    },
    {
      "cell_type": "code",
      "metadata": {
        "id": "h8lk6Ht1HsuZ"
      },
      "source": [
        "# df"
      ],
      "execution_count": 129,
      "outputs": []
    },
    {
      "cell_type": "markdown",
      "metadata": {
        "id": "QWYw0rUtIHVC"
      },
      "source": [
        "Since the columns b has no variance, it must be removed by:"
      ]
    },
    {
      "cell_type": "code",
      "metadata": {
        "id": "2CFBNa_uGPMm"
      },
      "source": [
        "df.drop(columns=['column_b'], inplace=True)\n",
        "# df"
      ],
      "execution_count": 130,
      "outputs": []
    },
    {
      "cell_type": "markdown",
      "metadata": {
        "id": "ChJPzoTdIQsC"
      },
      "source": [
        "The column_a with boolean must be encoded into 0/1 values by::"
      ]
    },
    {
      "cell_type": "code",
      "metadata": {
        "id": "XZzGz6UDHl6B"
      },
      "source": [
        "df['column_a'] = df.column_a.astype('float64')\n",
        "# df"
      ],
      "execution_count": 131,
      "outputs": []
    },
    {
      "cell_type": "markdown",
      "metadata": {
        "id": "BboEEPbsIX86"
      },
      "source": [
        "Labels must be extracted from the df object via:"
      ]
    },
    {
      "cell_type": "code",
      "metadata": {
        "id": "ffagM0doHr5x"
      },
      "source": [
        "df.rename(columns={'column_ai': 'label'}, inplace=True)\n",
        "df['label'] = df.label.astype('category')\n",
        "encoding = {'g': 1, 'b': 0}\n",
        "df.label.replace(encoding, inplace=True)"
      ],
      "execution_count": 132,
      "outputs": []
    },
    {
      "cell_type": "markdown",
      "metadata": {
        "id": "bFG6y3m6Ig7M"
      },
      "source": [
        "Finally data are obtained via:"
      ]
    },
    {
      "cell_type": "code",
      "metadata": {
        "id": "AVud3tcYIcAB"
      },
      "source": [
        "X = df.values[:, :-1]\n",
        "y = df.values[:, -1]"
      ],
      "execution_count": 133,
      "outputs": []
    },
    {
      "cell_type": "code",
      "metadata": {
        "colab": {
          "base_uri": "https://localhost:8080/"
        },
        "id": "XfCm2pHw3r59",
        "outputId": "7202b1e8-5f0d-40f1-c437-5f13918238e6"
      },
      "source": [
        "print(X.shape)\n",
        "print(y.shape)"
      ],
      "execution_count": 134,
      "outputs": [
        {
          "output_type": "stream",
          "name": "stdout",
          "text": [
            "(351, 33)\n",
            "(351,)\n"
          ]
        }
      ]
    },
    {
      "cell_type": "code",
      "metadata": {
        "id": "Oz5FYK-yK8Dz"
      },
      "source": [
        "def my_train_test_idx(X,y,K,train_size):\n",
        "  N = X.shape[0]\n",
        "  Ntrain = int(N* train_size)\n",
        "  Ntest = N-Ntrain\n",
        "  Itrain = np.zeros((Ntrain,K), dtype=int)\n",
        "  Itest =  np.zeros((Ntest, K), dtype=int)\n",
        "  for k in range(K):\n",
        "    idxs = np.random.permutation(N)\n",
        "    split_h_idx = Ntrain                          # integer for line selection (horizontal selection)\n",
        "    train_idxs = idxs[ :split_h_idx]              # indexing/selection of the test %\n",
        "    test_idxs = idxs[split_h_idx : ]              # indexing/selection of the remaining % for training\n",
        "    # print(test_idxs)\n",
        "    Itrain[:,k] = train_idxs\n",
        "    Itest[:,k] = test_idxs\n",
        "  return Itrain, Itest"
      ],
      "execution_count": 135,
      "outputs": []
    },
    {
      "cell_type": "code",
      "metadata": {
        "id": "8wjt529vO6y5"
      },
      "source": [
        "Itrain, Itest = my_train_test_idx(X,y,10,0.6)\n",
        "\n",
        "# Xtrain = X[Itrain[: , 1],:]\n",
        "# ytrain = y[Itrain[: , 1]]\n",
        "# Xtest = X[Itest[: , 1],:]\n",
        "# ytest = y[Itest[: , 1]]"
      ],
      "execution_count": 136,
      "outputs": []
    },
    {
      "cell_type": "code",
      "metadata": {
        "id": "kMEcBToX3r59"
      },
      "source": [
        "# Xtest"
      ],
      "execution_count": 137,
      "outputs": []
    },
    {
      "cell_type": "code",
      "metadata": {
        "id": "ZEjLVuox4sc5"
      },
      "source": [
        "def kNN(X, y, K, train_size):\n",
        "  Itrain, Itest = my_train_test_idx(X,y,K,train_size)\n",
        "  error = np.zeros(K)\n",
        "  for i in range(K):\n",
        "    #Create KNN Classifier\n",
        "    knn = KNeighborsClassifier(n_neighbors=5)\n",
        "    Xtrain = X[Itrain[: , i],:]\n",
        "    ytrain = y[Itrain[: , i]] \n",
        "    Xtest = X[Itest[: , i],:]\n",
        "    ytest = y[Itest[: , i]]\n",
        "    #Train the model using the training sets\n",
        "    knn.fit(Xtrain, ytrain)\n",
        "    #Predict the response for test dataset\n",
        "    ypred = knn.predict(Xtest)\n",
        "    # print(\"Accuracy of K=\",i,\": \",metrics.accuracy_score(ytest, ypred))\n",
        "    error[i]= mean_absolute_error(ytest, ypred)\n",
        "  mean_error = error.mean()\n",
        "  std_error = np.std(error)\n",
        "  print (\"Mean error over K fold:\",mean_error)\n",
        "  print (\"STD of error over K fold:\",std_error)"
      ],
      "execution_count": 138,
      "outputs": []
    },
    {
      "cell_type": "code",
      "metadata": {
        "id": "vH6p5q74-Wm0",
        "colab": {
          "base_uri": "https://localhost:8080/"
        },
        "outputId": "dfde3ccb-819f-4321-d93f-a706caf18e46"
      },
      "source": [
        "kNN(X, y, 10, 0.6)"
      ],
      "execution_count": 139,
      "outputs": [
        {
          "output_type": "stream",
          "name": "stdout",
          "text": [
            "Mean error over K fold: 0.1602836879432624\n",
            "STD of error over K fold: 0.028047829692603103\n"
          ]
        }
      ]
    },
    {
      "cell_type": "code",
      "metadata": {
        "id": "YLqsMf9b_VGQ"
      },
      "source": [
        "def my_train_test_valid_idx(X,y,K,train_size,valid_size):\n",
        "  N = X.shape[0]\n",
        "  # Ntrain + Nvalid + Ntest = N,\n",
        "  # Itrain(Ntrain x K), Ivalid(Nvalid x K) and Itest(Ntest x K).\n",
        "  Ntrain = int(N* train_size)\n",
        "  Nvalid = int((N-Ntrain)* train_size)\n",
        "  Ntest = N - Ntrain - Nvalid\n",
        "  \n",
        "  Itrain = np.zeros( (Ntrain,K), dtype=int)\n",
        "  Ivalid = np.zeros( (Nvalid,K), dtype=int)\n",
        "  Itest  = np.zeros( (Ntest, K), dtype=int)\n",
        "  for k in range(K):\n",
        "    idxs = np.random.permutation(N)\n",
        "    split_h_idx1 = Ntrain\n",
        "    split_h_idx2 = Ntrain+Nvalid                          # integer for line selection (horizontal selection)\n",
        "    train_idxs = idxs[ :split_h_idx1]                      # indexing/selection of the test %\n",
        "    valid_idxs = idxs[split_h_idx1 : split_h_idx2 ]        # indexing/selection of the % for validation\n",
        "    test_idxs = idxs[split_h_idx2 : ]                     # indexing/selection of the remaining % for training\n",
        "    # print(test_idxs)\n",
        "    Itrain[:,k] = train_idxs\n",
        "    Ivalid[:,k] = valid_idxs\n",
        "    Itest[:,k]  = test_idxs\n",
        "  return Itrain, Ivalid, Itest\n"
      ],
      "execution_count": 140,
      "outputs": []
    },
    {
      "cell_type": "code",
      "metadata": {
        "id": "RXNQE_7FA5U2"
      },
      "source": [
        "Itrain, Ivalid, Itest = my_train_test_valid_idx(X,y,1,0.6,0.2)\n",
        "Xtrain = X[Itrain[: , 0],:]\n",
        "ytrain = y[Itrain[: , 0]] \n",
        "Xvalid = X[Ivalid[: , 0],:]\n",
        "yvalid = y[Ivalid[: , 0]]\n",
        "Xtest = X[Itest[: , 0],:]\n",
        "ytest = y[Itest[: , 0]]"
      ],
      "execution_count": 141,
      "outputs": []
    },
    {
      "cell_type": "code",
      "metadata": {
        "id": "QCPbn5GXUR8J"
      },
      "source": [
        "def kNN2(X, y, train_size, valid_size, k):\n",
        "  Itrain, Ivalid, Itest = my_train_test_valid_idx(X,y,1,train_size, valid_size)\n",
        "  ER_valid = np.zeros(k)\n",
        "  \n",
        "  Xtrain = X[Itrain[: , 0],:]\n",
        "  ytrain = y[Itrain[: , 0]] \n",
        "  Xvalid = X[Ivalid[: , 0],:]\n",
        "  yvalid = y[Ivalid[: , 0]]\n",
        "  Xtest  = X[Itest[: , 0],:]\n",
        "  ytest  = y[Itest[: , 0]]\n",
        "\n",
        "  for i in range(k):\n",
        "    #Create KNN Classifier\n",
        "    knn = KNeighborsClassifier(n_neighbors=i+1)\n",
        "    \n",
        "    #Train the model using the training sets\n",
        "    knn.fit(Xtrain, ytrain)\n",
        "    #Predict the response for test dataset\n",
        "    ypred = knn.predict(Xvalid)\n",
        "    # print(\"Accuracy of K=\",i,\": \",metrics.accuracy_score(ytest, ypred))\n",
        "    ER_valid[i]= mean_absolute_error(yvalid, ypred)\n",
        "\n",
        "  print (\"ER_valids: \",ER_valid)\n",
        "  target_k = np.argmin(ER_valid)+1\n",
        "   \n",
        "  Xk = np.concatenate((Xtrain, Xvalid), axis=0)\n",
        "  yk = np.concatenate((ytrain, yvalid), axis=0)\n",
        "\n",
        "  knn = KNeighborsClassifier(n_neighbors=target_k)\n",
        "\n",
        "  knn.fit(Xk, yk)\n",
        "  #Predict the response for test dataset\n",
        "  ypred = knn.predict(Xtest)\n",
        "  # print(\"Accuracy of K=\",i,\": \",metrics.accuracy_score(ytest, ypred))\n",
        "  ER_test = mean_absolute_error(ytest, ypred)\n",
        "\n",
        "  print(\"value of k minimizing ER_valid(k):\", target_k)\n",
        "  print(\"ER_test\", ER_test)"
      ],
      "execution_count": 142,
      "outputs": []
    },
    {
      "cell_type": "code",
      "metadata": {
        "id": "P68fwypHAJTh",
        "outputId": "d925bd8e-8f14-4078-82ea-1cf0744b4f35",
        "colab": {
          "base_uri": "https://localhost:8080/"
        }
      },
      "source": [
        "kNN2(X, y, 0.6, 0.2, 20)"
      ],
      "execution_count": 143,
      "outputs": [
        {
          "output_type": "stream",
          "name": "stdout",
          "text": [
            "ER_valids:  [0.13095238 0.10714286 0.1547619  0.11904762 0.13095238 0.10714286\n",
            " 0.11904762 0.11904762 0.11904762 0.11904762 0.11904762 0.11904762\n",
            " 0.14285714 0.11904762 0.13095238 0.13095238 0.13095238 0.11904762\n",
            " 0.14285714 0.13095238]\n",
            "value of k minimizing ER_valid(k): 2\n",
            "ER_test 0.07017543859649122\n"
          ]
        }
      ]
    },
    {
      "cell_type": "markdown",
      "metadata": {
        "id": "kv9c3suQTlrG"
      },
      "source": [
        "**iv) SVM classifier.**\n",
        " Please add in your header: from sklearn.svm import SVC."
      ]
    },
    {
      "cell_type": "code",
      "metadata": {
        "id": "4RkhdaNEKw3N"
      },
      "source": [
        ""
      ],
      "execution_count": 143,
      "outputs": []
    }
  ]
}