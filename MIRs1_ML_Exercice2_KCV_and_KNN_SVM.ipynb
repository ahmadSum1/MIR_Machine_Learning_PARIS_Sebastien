{
  "nbformat": 4,
  "nbformat_minor": 0,
  "metadata": {
    "colab": {
      "name": "MIRs1_ML_Exercice2_KCV_and_KNN_SVM.ipynb",
      "provenance": [],
      "collapsed_sections": [],
      "include_colab_link": true
    },
    "kernelspec": {
      "display_name": "Python 3",
      "name": "python3"
    },
    "language_info": {
      "codemirror_mode": {
        "name": "ipython",
        "version": 3
      },
      "file_extension": ".py",
      "mimetype": "text/x-python",
      "name": "python",
      "nbconvert_exporter": "python",
      "pygments_lexer": "ipython3",
      "version": "3.8.12"
    }
  },
  "cells": [
    {
      "cell_type": "markdown",
      "metadata": {
        "id": "view-in-github",
        "colab_type": "text"
      },
      "source": [
        "<a href=\"https://colab.research.google.com/github/ahmadSum1/MIR_Machine_Learning_PARIS_Sebastien/blob/dev_ex02/MIRs1_ML_Exercice2_KCV_and_KNN_SVM.ipynb\" target=\"_parent\"><img src=\"https://colab.research.google.com/assets/colab-badge.svg\" alt=\"Open In Colab\"/></a>"
      ]
    },
    {
      "cell_type": "code",
      "metadata": {
        "id": "pYfzXYAzAFF7"
      },
      "source": [
        "import pandas as pd\n",
        "from sklearn.neighbors import KNeighborsClassifier\n",
        "from sklearn import metrics\n",
        "from sklearn.metrics import mean_absolute_error\n",
        "\n",
        "from sklearn.svm import SVC\n",
        "\n",
        "import numpy as np\n",
        "import matplotlib.pyplot as plt\n",
        "import seaborn as sns\n",
        "\n",
        "if 'google.colab' in str(get_ipython()):\n",
        "  from google.colab import files\n",
        "  import io\n",
        "else:\n",
        "  print('Not running on CoLab')\n",
        "\n",
        "data_file = 'ionosphere_data.csv'\n",
        "df = pd.read_csv('ionosphere_data.csv')\n",
        "# uploaded = files.upload() #Si google colab\n",
        "# df = pd.read_csv(io.BytesIO(uploaded[data_file]))"
      ],
      "execution_count": 623,
      "outputs": []
    },
    {
      "cell_type": "code",
      "metadata": {
        "id": "h8lk6Ht1HsuZ"
      },
      "source": [
        "# df"
      ],
      "execution_count": 624,
      "outputs": []
    },
    {
      "cell_type": "markdown",
      "metadata": {
        "id": "QWYw0rUtIHVC"
      },
      "source": [
        "Since the columns b has no variance, it must be removed by:"
      ]
    },
    {
      "cell_type": "code",
      "metadata": {
        "id": "2CFBNa_uGPMm"
      },
      "source": [
        "df.drop(columns=['column_b'], inplace=True)\n",
        "# df"
      ],
      "execution_count": 625,
      "outputs": []
    },
    {
      "cell_type": "markdown",
      "metadata": {
        "id": "ChJPzoTdIQsC"
      },
      "source": [
        "The column_a with boolean must be encoded into 0/1 values by::"
      ]
    },
    {
      "cell_type": "code",
      "metadata": {
        "id": "XZzGz6UDHl6B"
      },
      "source": [
        "df['column_a'] = df.column_a.astype('float64')\n",
        "# df"
      ],
      "execution_count": 626,
      "outputs": []
    },
    {
      "cell_type": "markdown",
      "metadata": {
        "id": "BboEEPbsIX86"
      },
      "source": [
        "Labels must be extracted from the df object via:"
      ]
    },
    {
      "cell_type": "code",
      "metadata": {
        "id": "ffagM0doHr5x"
      },
      "source": [
        "df.rename(columns={'column_ai': 'label'}, inplace=True)\n",
        "df['label'] = df.label.astype('category')\n",
        "encoding = {'g': 1, 'b': 0}\n",
        "df.label.replace(encoding, inplace=True)"
      ],
      "execution_count": 627,
      "outputs": []
    },
    {
      "cell_type": "markdown",
      "metadata": {
        "id": "bFG6y3m6Ig7M"
      },
      "source": [
        "Finally data are obtained via:"
      ]
    },
    {
      "cell_type": "code",
      "metadata": {
        "id": "AVud3tcYIcAB"
      },
      "source": [
        "X = df.values[:, :-1]\n",
        "y = df.values[:, -1]"
      ],
      "execution_count": 628,
      "outputs": []
    },
    {
      "cell_type": "code",
      "metadata": {
        "colab": {
          "base_uri": "https://localhost:8080/"
        },
        "id": "XfCm2pHw3r59",
        "outputId": "739e51f1-70a8-4d72-f419-28c6e1d6e2d9"
      },
      "source": [
        "print(X.shape)\n",
        "print(y.shape)"
      ],
      "execution_count": 629,
      "outputs": [
        {
          "output_type": "stream",
          "name": "stdout",
          "text": [
            "(351, 33)\n",
            "(351,)\n"
          ]
        }
      ]
    },
    {
      "cell_type": "code",
      "metadata": {
        "id": "Oz5FYK-yK8Dz"
      },
      "source": [
        "def my_train_test_idx(X,y,K,train_size):\n",
        "  N = X.shape[0]\n",
        "  Ntrain = int(N* train_size)\n",
        "  Ntest = N-Ntrain\n",
        "  Itrain = np.zeros((Ntrain,K), dtype=int)\n",
        "  Itest =  np.zeros((Ntest, K), dtype=int)\n",
        "  for k in range(K):\n",
        "    idxs = np.random.permutation(N)\n",
        "    split_h_idx = Ntrain                          # integer for line selection (horizontal selection)\n",
        "    train_idxs = idxs[ :split_h_idx]              # indexing/selection of the test %\n",
        "    test_idxs = idxs[split_h_idx : ]              # indexing/selection of the remaining % for training\n",
        "    # print(test_idxs)\n",
        "    Itrain[:,k] = train_idxs\n",
        "    Itest[:,k] = test_idxs\n",
        "  return Itrain, Itest"
      ],
      "execution_count": 630,
      "outputs": []
    },
    {
      "cell_type": "code",
      "metadata": {
        "id": "8wjt529vO6y5"
      },
      "source": [
        "Itrain, Itest = my_train_test_idx(X,y,10,0.6)\n",
        "\n",
        "# Xtrain = X[Itrain[: , 1],:]\n",
        "# ytrain = y[Itrain[: , 1]]\n",
        "# Xtest = X[Itest[: , 1],:]\n",
        "# ytest = y[Itest[: , 1]]"
      ],
      "execution_count": 631,
      "outputs": []
    },
    {
      "cell_type": "code",
      "metadata": {
        "id": "kMEcBToX3r59"
      },
      "source": [
        "# Xtest"
      ],
      "execution_count": 632,
      "outputs": []
    },
    {
      "cell_type": "markdown",
      "metadata": {
        "id": "AiJA_M8p5Inw"
      },
      "source": [
        "**ii)  kNN classifier**"
      ]
    },
    {
      "cell_type": "code",
      "metadata": {
        "id": "ZEjLVuox4sc5"
      },
      "source": [
        "def kNN(X, y, K, train_size):\n",
        "  Itrain, Itest = my_train_test_idx(X,y,K,train_size)\n",
        "  error = np.zeros(K)\n",
        "  for i in range(K):\n",
        "    #Create KNN Classifier\n",
        "    knn = KNeighborsClassifier(n_neighbors=5)\n",
        "    Xtrain = X[Itrain[: , i],:]\n",
        "    ytrain = y[Itrain[: , i]] \n",
        "    Xtest = X[Itest[: , i],:]\n",
        "    ytest = y[Itest[: , i]]\n",
        "    #Train the model using the training sets\n",
        "    knn.fit(Xtrain, ytrain)\n",
        "    #Predict the response for test dataset\n",
        "    ypred = knn.predict(Xtest)\n",
        "    # print(\"Accuracy of K=\",i,\": \",metrics.accuracy_score(ytest, ypred))\n",
        "    error[i]= mean_absolute_error(ytest, ypred)\n",
        "  mean_error = error.mean()\n",
        "  std_error = np.std(error)\n",
        "  print (\"Mean error over K fold:\",mean_error)\n",
        "  print (\"STD of error over K fold:\",std_error)"
      ],
      "execution_count": 633,
      "outputs": []
    },
    {
      "cell_type": "code",
      "metadata": {
        "id": "vH6p5q74-Wm0",
        "colab": {
          "base_uri": "https://localhost:8080/"
        },
        "outputId": "643bead7-069c-4a0f-da1e-63efadae8a9e"
      },
      "source": [
        "kNN(X, y, 10, 0.6)"
      ],
      "execution_count": 634,
      "outputs": [
        {
          "output_type": "stream",
          "name": "stdout",
          "text": [
            "Mean error over K fold: 0.16950354609929077\n",
            "STD of error over K fold: 0.029319186678857283\n"
          ]
        }
      ]
    },
    {
      "cell_type": "markdown",
      "metadata": {
        "id": "kcC0I05w5UB3"
      },
      "source": [
        "**iii)**"
      ]
    },
    {
      "cell_type": "code",
      "metadata": {
        "id": "YLqsMf9b_VGQ"
      },
      "source": [
        "def my_train_test_valid_idx(X,y,K,train_size,valid_size):\n",
        "  N = X.shape[0]\n",
        "  # Ntrain + Nvalid + Ntest = N,\n",
        "  # Itrain(Ntrain x K), Ivalid(Nvalid x K) and Itest(Ntest x K).\n",
        "  Ntrain = int(N* train_size)\n",
        "  Nvalid = int((N-Ntrain)* train_size)\n",
        "  Ntest = N - Ntrain - Nvalid\n",
        "  \n",
        "  Itrain = np.zeros( (Ntrain,K), dtype=int)\n",
        "  Ivalid = np.zeros( (Nvalid,K), dtype=int)\n",
        "  Itest  = np.zeros( (Ntest, K), dtype=int)\n",
        "  for k in range(K):\n",
        "    idxs = np.random.permutation(N)\n",
        "    split_h_idx1 = Ntrain\n",
        "    split_h_idx2 = Ntrain+Nvalid                          # integer for line selection (horizontal selection)\n",
        "    train_idxs = idxs[ :split_h_idx1]                      # indexing/selection of the test %\n",
        "    valid_idxs = idxs[split_h_idx1 : split_h_idx2 ]        # indexing/selection of the % for validation\n",
        "    test_idxs = idxs[split_h_idx2 : ]                     # indexing/selection of the remaining % for training\n",
        "    # print(test_idxs)\n",
        "    Itrain[:,k] = train_idxs\n",
        "    Ivalid[:,k] = valid_idxs\n",
        "    Itest[:,k]  = test_idxs\n",
        "  return Itrain, Ivalid, Itest\n"
      ],
      "execution_count": 635,
      "outputs": []
    },
    {
      "cell_type": "code",
      "metadata": {
        "id": "RXNQE_7FA5U2"
      },
      "source": [
        "Itrain, Ivalid, Itest = my_train_test_valid_idx(X,y,1,0.6,0.2)\n",
        "Xtrain = X[Itrain[: , 0],:]\n",
        "ytrain = y[Itrain[: , 0]] \n",
        "Xvalid = X[Ivalid[: , 0],:]\n",
        "yvalid = y[Ivalid[: , 0]]\n",
        "Xtest = X[Itest[: , 0],:]\n",
        "ytest = y[Itest[: , 0]]"
      ],
      "execution_count": 636,
      "outputs": []
    },
    {
      "cell_type": "code",
      "metadata": {
        "id": "QCPbn5GXUR8J"
      },
      "source": [
        "def kNN2(X, y, train_size, valid_size, k):\n",
        "  Itrain, Ivalid, Itest = my_train_test_valid_idx(X,y,1,train_size, valid_size)\n",
        "  ER_valid = np.zeros(k)\n",
        "  \n",
        "  Xtrain = X[Itrain[: , 0],:]\n",
        "  ytrain = y[Itrain[: , 0]] \n",
        "  Xvalid = X[Ivalid[: , 0],:]\n",
        "  yvalid = y[Ivalid[: , 0]]\n",
        "  Xtest  = X[Itest[: , 0],:]\n",
        "  ytest  = y[Itest[: , 0]]\n",
        "\n",
        "  for i in range(k):\n",
        "    #Create KNN Classifier\n",
        "    knn = KNeighborsClassifier(n_neighbors=i+1)\n",
        "    \n",
        "    #Train the model using the training sets\n",
        "    knn.fit(Xtrain, ytrain)\n",
        "    #Predict the response for test dataset\n",
        "    ypred = knn.predict(Xvalid)\n",
        "    # print(\"Accuracy of K=\",i,\": \",metrics.accuracy_score(ytest, ypred))\n",
        "    ER_valid[i]= mean_absolute_error(yvalid, ypred)\n",
        "\n",
        "  print (\"ER_valids: \",ER_valid)\n",
        "  target_k = np.argmin(ER_valid)+1\n",
        "   \n",
        "  Xk = np.concatenate((Xtrain, Xvalid), axis=0)\n",
        "  yk = np.concatenate((ytrain, yvalid), axis=0)\n",
        "\n",
        "  knn = KNeighborsClassifier(n_neighbors=target_k)\n",
        "\n",
        "  knn.fit(Xk, yk)\n",
        "  #Predict the response for test dataset\n",
        "  ypred = knn.predict(Xtest)\n",
        "  # print(\"Accuracy of K=\",i,\": \",metrics.accuracy_score(ytest, ypred))\n",
        "  ER_test = mean_absolute_error(ytest, ypred)\n",
        "\n",
        "  print(\"value of k minimizing ER_valid(k):\", target_k)\n",
        "  print(\"ER_test\", ER_test)"
      ],
      "execution_count": 637,
      "outputs": []
    },
    {
      "cell_type": "code",
      "metadata": {
        "id": "P68fwypHAJTh",
        "colab": {
          "base_uri": "https://localhost:8080/"
        },
        "outputId": "9e5b94b3-f893-4d4b-b39e-86590b674e7a"
      },
      "source": [
        "kNN2(X, y, 0.6, 0.2, 20)"
      ],
      "execution_count": 638,
      "outputs": [
        {
          "output_type": "stream",
          "name": "stdout",
          "text": [
            "ER_valids:  [0.13095238 0.0952381  0.1547619  0.11904762 0.14285714 0.13095238\n",
            " 0.1547619  0.1547619  0.1547619  0.14285714 0.16666667 0.16666667\n",
            " 0.16666667 0.17857143 0.17857143 0.17857143 0.19047619 0.17857143\n",
            " 0.17857143 0.17857143]\n",
            "value of k minimizing ER_valid(k): 2\n",
            "ER_test 0.14035087719298245\n"
          ]
        }
      ]
    },
    {
      "cell_type": "markdown",
      "metadata": {
        "id": "kv9c3suQTlrG"
      },
      "source": [
        "**iv) SVM classifier.**\n",
        " Please add in your header: from sklearn.svm import SVC."
      ]
    },
    {
      "cell_type": "markdown",
      "metadata": {
        "id": "ovLjMDZ84TpZ"
      },
      "source": [
        "a) Create the svm oject via the SVC method with a RBF Kernel. Select the \\gamma et C parameters to 1.0 and 1.0 respectively"
      ]
    },
    {
      "cell_type": "code",
      "metadata": {
        "id": "4RkhdaNEKw3N"
      },
      "source": [
        "clf = SVC(kernel='rbf', gamma=1.0, C=1.0)"
      ],
      "execution_count": 639,
      "outputs": []
    },
    {
      "cell_type": "markdown",
      "metadata": {
        "id": "41iuWiEJ4lNg"
      },
      "source": [
        "b) For each K-fold, learn the model (on Xtrain,ytrain) and predict class with the fit and predict methods respectively. Compute the mean Error Rate (and its standard deviation) integrated over the K = 10 folds\n",
        "\n",
        "**N.B.** For the svm classifier, the parameter \\theta represents all lagrange'multipliers."
      ]
    },
    {
      "cell_type": "code",
      "metadata": {
        "id": "Pt0vVRzf3M7p"
      },
      "source": [
        "def SVM(X, y, K, train_size, gamma, C):\n",
        "  Itrain, Itest = my_train_test_idx(X,y,K,train_size)\n",
        "  error = np.zeros(K)\n",
        "  for i in range(K):\n",
        "    #Create SVC Classifier\n",
        "    svm = SVC(kernel='rbf', gamma=gamma, C=C)\n",
        "    Xtrain = X[Itrain[: , i],:]\n",
        "    ytrain = y[Itrain[: , i]] \n",
        "    Xtest = X[Itest[: , i],:]\n",
        "    ytest = y[Itest[: , i]]\n",
        "    #Train the model using the training sets\n",
        "    svm.fit(Xtrain, ytrain)\n",
        "    #Predict the response for test dataset\n",
        "    ypred = svm.predict(Xtest)\n",
        "    # print(\"Accuracy of K=\",i,\": \",metrics.accuracy_score(ytest, ypred))\n",
        "    error[i]= mean_absolute_error(ytest, ypred)\n",
        "  mean_error = error.mean()\n",
        "  std_error = np.std(error)\n",
        "  print (\"Mean error over K folds:\",mean_error)\n",
        "  print (\"STD of error over K folds:\",std_error)"
      ],
      "execution_count": 640,
      "outputs": []
    },
    {
      "cell_type": "code",
      "metadata": {
        "id": "hqqMvmbK55wX",
        "colab": {
          "base_uri": "https://localhost:8080/"
        },
        "outputId": "a59c9459-2ae8-4233-eb8c-ef9007239090"
      },
      "source": [
        "SVM(X, y, 10, 0.6, gamma=1.0, C=1.0)"
      ],
      "execution_count": 641,
      "outputs": [
        {
          "output_type": "stream",
          "name": "stdout",
          "text": [
            "Mean error over K folds: 0.0801418439716312\n",
            "STD of error over K folds: 0.024578331136402065\n"
          ]
        }
      ]
    },
    {
      "cell_type": "markdown",
      "metadata": {
        "id": "f7qz8GS5hUXJ"
      },
      "source": [
        "**v)** Model selection for gamma and C. Like in iii), generate three sets (with K=1) Itrain, Itest, Ivald.\n",
        "\n",
        "For different couples (gamma,C), point of a 2d grid,, compute ER_valid. You can build the mesh grid for gamma=0.01,0.1,...100 and C = 0.01, 0.1, ...,10000. Select the best (gamma,C) minimizing ER_valid.  Predict ER_test by concanating Xtrain with Xvalid and ytrain with yvalid respectively"
      ]
    },
    {
      "cell_type": "code",
      "metadata": {
        "id": "yE5KOi4F6Fh2"
      },
      "source": [
        "Itrain, Ivalid, Itest = my_train_test_valid_idx(X,y,1,0.6,0.2)\n",
        "Xtrain = X[Itrain[: , 0],:]\n",
        "ytrain = y[Itrain[: , 0]] \n",
        "Xvalid = X[Ivalid[: , 0],:]\n",
        "yvalid = y[Ivalid[: , 0]]\n",
        "Xtest = X[Itest[: , 0],:]\n",
        "ytest = y[Itest[: , 0]]"
      ],
      "execution_count": 642,
      "outputs": []
    },
    {
      "cell_type": "code",
      "metadata": {
        "id": "OvicEIolx80S"
      },
      "source": [
        "def SVM2(X, y, train_size, valid_size, gamma, C):\n",
        "  Itrain, Ivalid, Itest = my_train_test_valid_idx(X,y,1,train_size, valid_size)\n",
        "  gamma_C = np.array(np.meshgrid(gamma,C)).T.reshape(-1,2)\n",
        "  # print(gamma_C.shape)\n",
        "  # print(gamma_C)\n",
        "  ER_valid = np.zeros(gamma_C.shape[0])\n",
        "  \n",
        "  Xtrain = X[Itrain[: , 0],:]\n",
        "  ytrain = y[Itrain[: , 0]] \n",
        "  Xvalid = X[Ivalid[: , 0],:]\n",
        "  yvalid = y[Ivalid[: , 0]]\n",
        "  Xtest  = X[Itest[: , 0],:]\n",
        "  ytest  = y[Itest[: , 0]]\n",
        "\n",
        "  for i in range(gamma_C.shape[0]):\n",
        "    g, c = gamma_C[i,0], gamma_C[i,1]\n",
        "    # print(f\"g:{g}, C:{c}\")\n",
        "    #Create SVC Classifier\n",
        "    svm = SVC(kernel='rbf', gamma=g, C=c)\n",
        "    #Train the model using the training sets\n",
        "    svm.fit(Xtrain, ytrain)\n",
        "    #Predict the response for test dataset\n",
        "    ypred = svm.predict(Xvalid)\n",
        "    # print(\"Accuracy of K=\",i,\": \",metrics.accuracy_score(ytest, ypred))\n",
        "    ER_valid[i]= mean_absolute_error(yvalid, ypred)\n",
        "\n",
        "  print (\"ER_valids: \",ER_valid)\n",
        "  target_k = np.argmin(ER_valid)\n",
        "   \n",
        "  Xk = np.concatenate((Xtrain, Xvalid), axis=0)\n",
        "  yk = np.concatenate((ytrain, yvalid), axis=0)\n",
        "  g, c = gamma_C[target_k,0], gamma_C[target_k,1]\n",
        "  print(f\"g:{g}, C:{c}\")\n",
        "  svm = SVC(kernel='rbf', gamma=g, C=c)\n",
        "\n",
        "  svm.fit(Xk, yk)\n",
        "  #Predict the response for test dataset\n",
        "  ypred = svm.predict(Xtest)\n",
        "  # print(\"Accuracy of K=\",i,\": \",metrics.accuracy_score(ytest, ypred))\n",
        "  ER_test = mean_absolute_error(ytest, ypred)\n",
        "\n",
        "  print(\"ER_test\", ER_test)\n",
        "  return svm, ER_valid"
      ],
      "execution_count": 643,
      "outputs": []
    },
    {
      "cell_type": "code",
      "metadata": {
        "id": "3xeYIlE10p3S",
        "colab": {
          "base_uri": "https://localhost:8080/"
        },
        "outputId": "d453b3b0-5b5f-43fd-bbc9-4ebd8fb62c71"
      },
      "source": [
        "gamma =[0.01,0.1, 1.0, 10.0, 100.0]\n",
        "C     =[0.01,0.1, 1.0, 10.0, 100.0, 1000.0, 10000.0]\n",
        "model, ER_valid = SVM2(X, y, 0.6, 0.2, gamma, C)"
      ],
      "execution_count": 644,
      "outputs": [
        {
          "output_type": "stream",
          "name": "stdout",
          "text": [
            "ER_valids:  [0.4047619  0.4047619  0.10714286 0.07142857 0.07142857 0.05952381\n",
            " 0.13095238 0.4047619  0.25       0.04761905 0.07142857 0.07142857\n",
            " 0.08333333 0.08333333 0.4047619  0.4047619  0.07142857 0.07142857\n",
            " 0.07142857 0.07142857 0.07142857 0.4047619  0.4047619  0.39285714\n",
            " 0.39285714 0.39285714 0.39285714 0.39285714 0.4047619  0.4047619\n",
            " 0.4047619  0.4047619  0.4047619  0.4047619  0.4047619 ]\n",
            "g:0.1, C:1.0\n",
            "ER_test 0.07017543859649122\n"
          ]
        }
      ]
    },
    {
      "cell_type": "code",
      "metadata": {
        "id": "j4B4m05C2dzi"
      },
      "source": [
        "err = ER_valid.reshape((5,7))"
      ],
      "execution_count": 645,
      "outputs": []
    },
    {
      "cell_type": "code",
      "metadata": {
        "id": "jy8_230GPOsJ"
      },
      "source": [
        "#using external library for heat mapping\n",
        "# ax = sns.heatmap(err, linewidth=0,  cmap=\"viridis\")\n",
        "# plt.xlabel('C values')\n",
        "# plt.ylabel('gamma values')\n",
        "# plt.xticks(range(len(C)),C)\n",
        "# plt.yticks(range(len(gamma)),gamma)\n",
        "# plt.gca().invert_yaxis()\n",
        "\n",
        "# plt.show()"
      ],
      "execution_count": 654,
      "outputs": []
    },
    {
      "cell_type": "code",
      "metadata": {
        "colab": {
          "base_uri": "https://localhost:8080/",
          "height": 267
        },
        "id": "cFpJptmTf6Ft",
        "outputId": "028fd389-c814-45be-bfbe-9918e796ab1b"
      },
      "source": [
        "#printing using just pyplot\n",
        "plt.figure()\n",
        "plt.subplot()\n",
        "plt.imshow(err, cmap='viridis')\n",
        "plt.colorbar()\n",
        "plt.xlabel('C values')\n",
        "plt.ylabel('gamma values')\n",
        "plt.xticks(range(len(C)),C)\n",
        "plt.yticks(range(len(gamma)),gamma)\n",
        "plt.gca().invert_yaxis()\n",
        "plt.show()"
      ],
      "execution_count": 658,
      "outputs": [
        {
          "output_type": "display_data",
          "data": {
            "image/png": "[encoded data removed]",
            "text/plain": [
              "<Figure size 432x288 with 2 Axes>"
            ]
          },
          "metadata": {
            "needs_background": "light"
          }
        }
      ]
    },
    {
      "cell_type": "code",
      "metadata": {
        "colab": {
          "base_uri": "https://localhost:8080/"
        },
        "id": "vmXyn6_oXV3F",
        "outputId": "a2596303-9684-41b9-c905-3422f19e4ed9"
      },
      "source": [
        "g = model.get_params()['gamma']\n",
        "c = model.get_params()['C']\n",
        "SVM(X, y, 10, 0.6, g, c)"
      ],
      "execution_count": 648,
      "outputs": [
        {
          "output_type": "stream",
          "name": "stdout",
          "text": [
            "Mean error over K folds: 0.053900709219858144\n",
            "STD of error over K folds: 0.022020105952141877\n"
          ]
        }
      ]
    },
    {
      "cell_type": "code",
      "metadata": {
        "id": "TWllYNbAcBnC"
      },
      "source": [
        ""
      ],
      "execution_count": 648,
      "outputs": []
    }
  ]
}